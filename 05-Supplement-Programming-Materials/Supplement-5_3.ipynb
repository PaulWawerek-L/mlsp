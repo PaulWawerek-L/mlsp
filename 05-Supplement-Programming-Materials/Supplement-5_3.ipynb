{
 "cells": [
  {
   "attachments": {},
   "cell_type": "markdown",
   "metadata": {},
   "source": [
    "### 5.3 Programming Task: Digit recognition using CNNs"
   ]
  },
  {
   "cell_type": "code",
   "execution_count": 41,
   "metadata": {},
   "outputs": [],
   "source": [
    "import torch\n",
    "import torch.utils.data as Data\n",
    "import torch.nn as nn\n",
    "import torch.optim as optim\n",
    "import torch.nn.functional as F\n",
    "import numpy as np\n",
    "from torchvision import datasets, transforms\n",
    "from torchinfo import summary\n",
    "%matplotlib inline"
   ]
  },
  {
   "attachments": {},
   "cell_type": "markdown",
   "metadata": {},
   "source": [
    "i. Complete the code for the ConvNet class given below using the network description from supplement pdf."
   ]
  },
  {
   "cell_type": "code",
   "execution_count": 42,
   "metadata": {},
   "outputs": [],
   "source": [
    "class ConvNet(nn.Module):\n",
    "    def __init__(self):\n",
    "        super(ConvNet, self).__init__()\n",
    "        self.conv = nn.Conv2d(1, 20, 5, stride=1)\n",
    "        self.maxpool = nn.MaxPool2d(2, stride=2)\n",
    "        self.fc1 = nn.Linear(12 * 12 * 20, 100)\n",
    "        self.fc2 = nn.Linear(100, 10)\n",
    "\n",
    "    def forward(self, x):\n",
    "        x = F.relu(self.conv(x))\n",
    "        x = self.maxpool(x).flatten(start_dim=1)\n",
    "        x = F.relu(self.fc1(x))\n",
    "        x = F.log_softmax(self.fc2(x), dim=1)\n",
    "        return x"
   ]
  },
  {
   "cell_type": "markdown",
   "metadata": {},
   "source": [
    "Show the net."
   ]
  },
  {
   "cell_type": "code",
   "execution_count": 43,
   "metadata": {},
   "outputs": [
    {
     "name": "stdout",
     "output_type": "stream",
     "text": [
      "ConvNet(\n",
      "  (conv): Conv2d(1, 20, kernel_size=(5, 5), stride=(1, 1))\n",
      "  (maxpool): MaxPool2d(kernel_size=2, stride=2, padding=0, dilation=1, ceil_mode=False)\n",
      "  (fc1): Linear(in_features=2880, out_features=100, bias=True)\n",
      "  (fc2): Linear(in_features=100, out_features=10, bias=True)\n",
      ")\n"
     ]
    }
   ],
   "source": [
    "net = ConvNet()\n",
    "print(net)"
   ]
  },
  {
   "attachments": {},
   "cell_type": "markdown",
   "metadata": {},
   "source": [
    "ii. Train the CNN and observe the difference in performance in comparison to the feed-forward\n",
    "network from the task 5.2.\n",
    "- Both show good performance (above 97% accuracy)\n",
    "- However, surprisingly, the fully connected network (5.2) has a slightly better performance with equal hyperparameters, loss and optimizer (98% vs. 97.5%)"
   ]
  },
  {
   "cell_type": "code",
   "execution_count": 44,
   "metadata": {},
   "outputs": [],
   "source": [
    "batch_size=200\n",
    "learning_rate=0.01\n",
    "epochs=10"
   ]
  },
  {
   "cell_type": "code",
   "execution_count": 45,
   "metadata": {},
   "outputs": [],
   "source": [
    "train_loader = Data.DataLoader(datasets.MNIST('../data', train=True, download=True,\n",
    "                        transform=transforms.Compose([transforms.ToTensor(), transforms.Normalize((0.1307,), (0.3081,))])), batch_size=batch_size, shuffle=True)\n",
    "\n",
    "test_loader = Data.DataLoader(datasets.MNIST('../data', train=False,\n",
    "                        transform=transforms.Compose([transforms.ToTensor(), transforms.Normalize((0.1307,), (0.3081,))])), batch_size=batch_size, shuffle=True)"
   ]
  },
  {
   "cell_type": "code",
   "execution_count": 46,
   "metadata": {},
   "outputs": [],
   "source": [
    "loss_func = nn.NLLLoss()\n",
    "optimizer = optim.SGD(net.parameters(), lr=learning_rate)"
   ]
  },
  {
   "cell_type": "code",
   "execution_count": 47,
   "metadata": {},
   "outputs": [
    {
     "name": "stdout",
     "output_type": "stream",
     "text": [
      "Train Epoch: 1 Avg. Training Loss: 0.003758\n",
      "Train Epoch: 2 Avg. Training Loss: 0.001512\n",
      "Train Epoch: 3 Avg. Training Loss: 0.001228\n",
      "Train Epoch: 4 Avg. Training Loss: 0.001035\n",
      "Train Epoch: 5 Avg. Training Loss: 0.000882\n",
      "Train Epoch: 6 Avg. Training Loss: 0.000763\n",
      "Train Epoch: 7 Avg. Training Loss: 0.000668\n",
      "Train Epoch: 8 Avg. Training Loss: 0.000594\n",
      "Train Epoch: 9 Avg. Training Loss: 0.000531\n",
      "Train Epoch: 10 Avg. Training Loss: 0.000483\n"
     ]
    }
   ],
   "source": [
    "for epoch in range(epochs):\n",
    "    total_loss = 0.0\n",
    "    for data, target in train_loader:\n",
    "        optimizer.zero_grad()\n",
    "        net_out = net(data)\n",
    "        loss = loss_func(net_out, target)\n",
    "        total_loss += loss.data\n",
    "        loss.backward()\n",
    "        optimizer.step()\n",
    "\n",
    "    print('Train Epoch: {} Avg. Training Loss: {:.6f}'.format(epoch+1, total_loss/len(train_loader.dataset)))"
   ]
  },
  {
   "cell_type": "code",
   "execution_count": 48,
   "metadata": {},
   "outputs": [
    {
     "name": "stdout",
     "output_type": "stream",
     "text": [
      "\n",
      "Test set: Average loss: 0.0004, Accuracy: 9746/10000 (97.46%)\n",
      "\n"
     ]
    }
   ],
   "source": [
    "test_loss = 0.0\n",
    "correct = 0.0\n",
    "\n",
    "for data, target in test_loader:\n",
    "    net_out = net(data)\n",
    "    # sum up batch loss\n",
    "    test_loss += loss_func(net_out, target).data\n",
    "    pred = net_out.data.max(dim=1)[1]  # get the index of the max log probability. Here [1] returns the argmax. \n",
    "    correct += pred.eq(target.data).sum()\n",
    "\n",
    "test_loss /= len(test_loader.dataset)\n",
    "print('\\nTest set: Average loss: {:.4f}, Accuracy: {:.0f}/{} ({:.2%})\\n'.format(\n",
    "    test_loss, correct, len(test_loader.dataset), correct / len(test_loader.dataset)))"
   ]
  },
  {
   "attachments": {},
   "cell_type": "markdown",
   "metadata": {},
   "source": [
    "iii. Calculate the number of learnable parameters and the output shape in each layer. Verify your\n",
    "answers with model summary. (Refer last cell of the tutorial notebook)\n",
    "- Convolution: $\\#\\mathrm{TrainableParameters} = 5^2 \\times 20 + 20 = \\bf{520}$\n",
    "- MaxPool: $\\#\\mathrm{TrainableParameters} = 0$\n",
    "- Fully Connected 1: $\\#\\mathrm{TrainableParameters} = 12^2 \\times 20 \\times 100 + 100 = \\bf{288,100}$\n",
    "- Fully Connected 2: $\\#\\mathrm{TrainableParameters} = 100\\times 10 + 10 = \\bf{1,010}$\n",
    "- Total: $\\sum \\#\\mathrm{TrainableParameters} = \\bf{289,630}$"
   ]
  },
  {
   "cell_type": "code",
   "execution_count": 65,
   "metadata": {},
   "outputs": [
    {
     "data": {
      "text/plain": [
       "==========================================================================================\n",
       "Layer (type:depth-idx)                   Output Shape              Param #\n",
       "==========================================================================================\n",
       "ConvNet                                  [1, 10]                   --\n",
       "├─Conv2d: 1-1                            [1, 20, 24, 24]           520\n",
       "├─MaxPool2d: 1-2                         [1, 20, 12, 12]           --\n",
       "├─Linear: 1-3                            [1, 100]                  288,100\n",
       "├─Linear: 1-4                            [1, 10]                   1,010\n",
       "==========================================================================================\n",
       "Total params: 289,630\n",
       "Trainable params: 289,630\n",
       "Non-trainable params: 0\n",
       "Total mult-adds (M): 0.59\n",
       "==========================================================================================\n",
       "Input size (MB): 0.00\n",
       "Forward/backward pass size (MB): 0.09\n",
       "Params size (MB): 1.16\n",
       "Estimated Total Size (MB): 1.25\n",
       "=========================================================================================="
      ]
     },
     "execution_count": 65,
     "metadata": {},
     "output_type": "execute_result"
    }
   ],
   "source": [
    "summary(net, input_size=(1, 1, 28, 28))"
   ]
  }
 ],
 "metadata": {
  "kernelspec": {
   "display_name": "mlsp",
   "language": "python",
   "name": "python3"
  },
  "language_info": {
   "codemirror_mode": {
    "name": "ipython",
    "version": 3
   },
   "file_extension": ".py",
   "mimetype": "text/x-python",
   "name": "python",
   "nbconvert_exporter": "python",
   "pygments_lexer": "ipython3",
   "version": "3.9.15"
  },
  "vscode": {
   "interpreter": {
    "hash": "d57cc28cc149ef2e4b19b6e5a0bff660d006ed5f61e0dd4a41526f0330d7cac2"
   }
  }
 },
 "nbformat": 4,
 "nbformat_minor": 2
}
